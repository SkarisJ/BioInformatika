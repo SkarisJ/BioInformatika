{
  "nbformat": 4,
  "nbformat_minor": 0,
  "metadata": {
    "colab": {
      "provenance": [],
      "collapsed_sections": []
    },
    "kernelspec": {
      "name": "python3",
      "display_name": "Python 3"
    },
    "language_info": {
      "name": "python"
    }
  },
  "cells": [
    {
      "cell_type": "code",
      "execution_count": null,
      "metadata": {
        "colab": {
          "base_uri": "https://localhost:8080/"
        },
        "id": "7KwsSiVfPnKS",
        "outputId": "ff49351d-7052-4ef7-b6fd-bd6b4fe9fc66"
      },
      "outputs": [
        {
          "output_type": "stream",
          "name": "stdout",
          "text": [
            "Looking in indexes: https://pypi.org/simple, https://us-python.pkg.dev/colab-wheels/public/simple/\n",
            "Collecting biopython\n",
            "  Downloading biopython-1.79-cp37-cp37m-manylinux_2_17_x86_64.manylinux2014_x86_64.whl (2.6 MB)\n",
            "\u001b[K     |████████████████████████████████| 2.6 MB 5.3 MB/s \n",
            "\u001b[?25hRequirement already satisfied: numpy in /usr/local/lib/python3.7/dist-packages (from biopython) (1.21.6)\n",
            "Installing collected packages: biopython\n",
            "Successfully installed biopython-1.79\n"
          ]
        }
      ],
      "source": [
        "!pip install biopython"
      ]
    },
    {
      "cell_type": "code",
      "source": [
        "from google.colab import drive\n",
        "drive.mount('/content/drive', force_remount=True)"
      ],
      "metadata": {
        "colab": {
          "base_uri": "https://localhost:8080/"
        },
        "id": "AoycIImjQa3W",
        "outputId": "3a3167f6-212e-4047-970c-c3a56f6187c6"
      },
      "execution_count": null,
      "outputs": [
        {
          "output_type": "stream",
          "name": "stdout",
          "text": [
            "Mounted at /content/drive\n"
          ]
        }
      ]
    },
    {
      "cell_type": "code",
      "source": [
        "from Bio import SeqIO\n",
        "from Bio.Seq import Seq\n",
        "from numpy import around\n",
        "import os\n",
        "import math\n",
        "files_path = \"/content/drive/MyDrive/BioInfo/data/\"\n",
        "start_codons = ['ATG']\n",
        "stop_codons = ['TAG', 'TAA', 'TGA']"
      ],
      "metadata": {
        "id": "KYGRiOsrxU58"
      },
      "execution_count": null,
      "outputs": []
    },
    {
      "cell_type": "markdown",
      "source": [
        "Read file"
      ],
      "metadata": {
        "id": "ZAqGzi-I37k4"
      }
    },
    {
      "cell_type": "code",
      "source": [
        "def getGenomes():\n",
        "    _, _, files = next(os.walk(files_path))\n",
        "    file_count = len(files)\n",
        "    genomesArray = []\n",
        "    num = 0\n",
        "    for i in range(0,int(file_count/2)):\n",
        "      num += 1;\n",
        "      for record in SeqIO.parse(files_path + \"bacterial\" + str(num) + \".fasta\", \"fasta\"):\n",
        "          genomesArray.append(record)\n",
        "\n",
        "    num = 0\n",
        "    for i in range(int(file_count/2),int(file_count)):\n",
        "      num += 1\n",
        "      for record in SeqIO.parse(files_path + \"mamalian\" + str(num) + \".fasta\", \"fasta\"):\n",
        "          genomesArray.append(record)\n",
        "\n",
        "    return genomesArray"
      ],
      "metadata": {
        "id": "QXxdp8xfxrZP"
      },
      "execution_count": null,
      "outputs": []
    },
    {
      "cell_type": "markdown",
      "source": [
        "Start and stop pairs"
      ],
      "metadata": {
        "id": "ZfMOQmzb3962"
      }
    },
    {
      "cell_type": "code",
      "source": [
        "def codoneStartToStop(frame, stride, x, length):\n",
        "    found = False\n",
        "    for j in range(len(frame[stride:])):\n",
        "        x += frame[j + stride]\n",
        "        length += 1\n",
        "        if frame[j + stride:j + stride + 3] in stop_codons:\n",
        "            x += frame[j + stride + 1] + frame[j + stride + 2]\n",
        "            found = True\n",
        "            length += 2\n",
        "            break\n",
        "    return found, x"
      ],
      "metadata": {
        "id": "zSsSbU7TxbEJ"
      },
      "execution_count": null,
      "outputs": []
    },
    {
      "cell_type": "code",
      "source": [
        "def codoneStopToStart(frame, stride, i, length):\n",
        "    found = False\n",
        "    x = \"\"\n",
        "    for j in range(len(frame[stride:])):\n",
        "        if frame[j + stride: j + stride + 3] in start_codons:\n",
        "            x = frame[i: j + stride + 3]\n",
        "            length += 3\n",
        "            found = True\n",
        "            j += 3\n",
        "        elif frame[j + stride: j + stride + 3] in stop_codons:\n",
        "            break\n",
        "        length += 1\n",
        "    return found, x"
      ],
      "metadata": {
        "id": "mmdIgBu-xclg"
      },
      "execution_count": null,
      "outputs": []
    },
    {
      "cell_type": "code",
      "source": [
        "def findCodons(arr, frame, globalArray, isStartToStop):\n",
        "    for i in range(len(frame)):\n",
        "        stride = i + 3\n",
        "        length = 0\n",
        "        if frame[i:stride] in globalArray:\n",
        "            length += 3\n",
        "            if isStartToStop:\n",
        "                found, x = codoneStartToStop(frame, stride, frame[i:stride], length)\n",
        "            else:\n",
        "                found, x = codoneStopToStart(frame, stride, i, length)\n",
        "            if found:\n",
        "                arr.append(x)\n",
        "        i += length"
      ],
      "metadata": {
        "id": "RM71xVhrxeKb"
      },
      "execution_count": null,
      "outputs": []
    },
    {
      "cell_type": "code",
      "source": [
        "def callThreeFrames(arr, sequence, isStartToStop):\n",
        "    for i in range(3):\n",
        "        frame = sequence[i::3]\n",
        "        if isStartToStop:\n",
        "            findCodons(arr, frame, start_codons, isStartToStop)\n",
        "        else:\n",
        "            findCodons(arr, frame, stop_codons, isStartToStop)"
      ],
      "metadata": {
        "id": "swqlu5Joxfnq"
      },
      "execution_count": null,
      "outputs": []
    },
    {
      "cell_type": "code",
      "source": [
        "def findCodonPairs(sequence, isStartToStop):\n",
        "    genomesArr = []\n",
        "    callThreeFrames(genomesArr, sequence, isStartToStop)\n",
        "    rcSeq = sequence.reverse_complement()\n",
        "    callThreeFrames(genomesArr, rcSeq, isStartToStop)\n",
        "    return genomesArr"
      ],
      "metadata": {
        "id": "Jmg0aM2Fxg4S"
      },
      "execution_count": null,
      "outputs": []
    },
    {
      "cell_type": "code",
      "source": [
        "def getPairs(genomes, isStartToStop):\n",
        "    arr = []\n",
        "    for i in range(len(genomes)):\n",
        "        codonPairs = findCodonPairs(genomes[i].seq, isStartToStop)\n",
        "        arr.append(codonPairs)\n",
        "    return arr"
      ],
      "metadata": {
        "id": "5kHCO3lYxs_A"
      },
      "execution_count": null,
      "outputs": []
    },
    {
      "cell_type": "markdown",
      "source": [
        "Filtering fragments"
      ],
      "metadata": {
        "id": "w1GCAeTu4HEQ"
      }
    },
    {
      "cell_type": "code",
      "source": [
        "def filterByLength(array):\n",
        "    filteredArr = []\n",
        "    for value in array:\n",
        "      if len(value) > 100:\n",
        "        filteredArr.append(value)\n",
        "    return filteredArr"
      ],
      "metadata": {
        "id": "ejg2TUlzxiU2"
      },
      "execution_count": null,
      "outputs": []
    },
    {
      "cell_type": "markdown",
      "source": [
        "Frequency calculation"
      ],
      "metadata": {
        "id": "rdRAue5m8cki"
      }
    },
    {
      "cell_type": "code",
      "source": [
        "def getAllPossible(sequence, n1, n2):\n",
        "    array = []\n",
        "    i = 0\n",
        "    while i < len(sequence):\n",
        "        if sequence[i:i+n2] not in array:\n",
        "            if len(sequence[i:i+n2]) == n2:\n",
        "                array.append(sequence[i:i+n2])\n",
        "        i += n1\n",
        "    return array"
      ],
      "metadata": {
        "id": "9vA7M1RNxkbX"
      },
      "execution_count": null,
      "outputs": []
    },
    {
      "cell_type": "code",
      "source": [
        "class Frequency:\n",
        "    def __init__(self, code, freq) -> None:\n",
        "        self.code = code\n",
        "        self.freq = freq"
      ],
      "metadata": {
        "id": "7jWA98_ix3_N"
      },
      "execution_count": null,
      "outputs": []
    },
    {
      "cell_type": "code",
      "source": [
        "def getFrequencies(sequence, n1, n2):\n",
        "    freqs = []\n",
        "    allPossible = getAllPossible(sequence, n1, n2)\n",
        "    for possible in allPossible:\n",
        "        frequencies = Frequency(possible, sequence.count(possible) / len(sequence))\n",
        "        freqs.append(frequencies)\n",
        "    return freqs"
      ],
      "metadata": {
        "id": "whBgL9rXxoBY"
      },
      "execution_count": null,
      "outputs": []
    },
    {
      "cell_type": "code",
      "source": [
        "def concatSeqs(sequence):\n",
        "    sum = Seq(\"\")\n",
        "    for item in sequence:\n",
        "        sum += item\n",
        "    return sum"
      ],
      "metadata": {
        "id": "tk6bwqfCxm2I"
      },
      "execution_count": null,
      "outputs": []
    },
    {
      "cell_type": "code",
      "source": [
        "def getFrequenciessArr(genomes, codes1, codes2, n1, n2):\n",
        "    arr = []\n",
        "    for i in range(len(genomes)):\n",
        "        concated = concatSeqs(codes1[i]) + concatSeqs(codes2[i])\n",
        "        if concated:\n",
        "            frequencies = getFrequencies(concated, n1, n2)\n",
        "            arr.append(frequencies)\n",
        "        else:\n",
        "            arr.append([])\n",
        "    return arr"
      ],
      "metadata": {
        "id": "3ay-AC-hx5va"
      },
      "execution_count": null,
      "outputs": []
    },
    {
      "cell_type": "markdown",
      "source": [
        "Calculate distance"
      ],
      "metadata": {
        "id": "ZQaercHe8x8j"
      }
    },
    {
      "cell_type": "code",
      "source": [
        "def compareFrequencies(array1, array2):\n",
        "    resultArr = []\n",
        "    results = 0.0\n",
        "    sameCodeItem = None\n",
        "    for i in range(len(array1)):\n",
        "        for x in array2:\n",
        "          if x.code == array1[i].code:\n",
        "            sameCodeItem = array1[i]\n",
        "          if sameCodeItem:\n",
        "            results += math.pow((array1[i].freq - sameCodeItem.freq), 2)\n",
        "    if results != 0:\n",
        "      return math.sqrt(results)\n",
        "    else:\n",
        "      return 0"
      ],
      "metadata": {
        "id": "FuzZW0nLx9cx"
      },
      "execution_count": null,
      "outputs": []
    },
    {
      "cell_type": "markdown",
      "source": [
        "Create Phylip matrix"
      ],
      "metadata": {
        "id": "5kN1wnc0BT7b"
      }
    },
    {
      "cell_type": "code",
      "source": [
        "def createPhilypMatrix(genomes, freqs):\n",
        "    philypMatrix = []\n",
        "    for i in range(len(genomes)):\n",
        "        philypMatrix.append([])\n",
        "    for i in range(len(genomes)):\n",
        "        for j in range(len(genomes)):\n",
        "            comparedFrequencies = compareFrequencies(freqs[i], freqs[j])          \n",
        "            philypMatrix[i].append(comparedFrequencies)\n",
        "    return philypMatrix"
      ],
      "metadata": {
        "id": "Eog8GAIxx_Q5"
      },
      "execution_count": null,
      "outputs": []
    },
    {
      "cell_type": "code",
      "source": [
        "def printPhilypMatrix(genomes, matrix):\n",
        "    print(len(genomes))\n",
        "    for i in range(len(genomes)):\n",
        "        print(genomes[i].id, *matrix[i])"
      ],
      "metadata": {
        "id": "fvBjIug-yA9A"
      },
      "execution_count": null,
      "outputs": []
    },
    {
      "cell_type": "code",
      "source": [
        "genomes = getGenomes()"
      ],
      "metadata": {
        "id": "dCbo32Du2CdN"
      },
      "execution_count": null,
      "outputs": []
    },
    {
      "cell_type": "markdown",
      "source": [
        "Pateiktoje sekoje fasta formatu surastu visas start ir stop kodonų poras, tarp kurių nebutu stop kodono (ir tiesioginei sekai ir jos reverse komplementui). "
      ],
      "metadata": {
        "id": "8FywkxKW2Ebd"
      }
    },
    {
      "cell_type": "code",
      "source": [
        "codoneStartToStop = getPairs(genomes, True)"
      ],
      "metadata": {
        "id": "lOe5c2Rk2HtJ"
      },
      "execution_count": null,
      "outputs": []
    },
    {
      "cell_type": "markdown",
      "source": [
        "Kiekvienam stop kodonui parinkti toliausiai nuo jo esanti start kodoną (su salyga, kad tarp ju nera kito stop kodono)"
      ],
      "metadata": {
        "id": "oauYOISt6hj5"
      }
    },
    {
      "cell_type": "code",
      "source": [
        "codoneStopToStart = getPairs(genomes, False)"
      ],
      "metadata": {
        "id": "pcd_c-1P6gv0"
      },
      "execution_count": null,
      "outputs": []
    },
    {
      "cell_type": "markdown",
      "source": [
        "Atfiltruokite visus fragmentus (\"tai butu baltymų koduojancios sekos\"), kurie trumpesni nei 100 fragmentų."
      ],
      "metadata": {
        "id": "SGU_U93j65LZ"
      }
    },
    {
      "cell_type": "code",
      "source": [
        "for i in range(len(genomes)):\n",
        "    codoneStartToStop[i] = filterByLength(codoneStartToStop[i])\n",
        "    codoneStopToStart[i] = filterByLength(codoneStopToStart[i])"
      ],
      "metadata": {
        "id": "Tp1zphxb67gj"
      },
      "execution_count": null,
      "outputs": []
    },
    {
      "cell_type": "markdown",
      "source": [
        "Parasykite funkcijas, kurios ivertintu kodonu ir dikodonu daznius (visi imanomi kodonai/dikodonai ir jų atitinkamas daznis  - gali buti nemazai nuliu, jei ju sekoje nerasite)."
      ],
      "metadata": {
        "id": "5o2oM39-8QSs"
      }
    },
    {
      "cell_type": "code",
      "source": [
        "codonFrequenciesArray = getFrequenciessArr(genomes, codoneStartToStop, codoneStopToStart, 1, 3)\n",
        "dicodonFrequenciesArray = getFrequenciessArr(genomes, codoneStartToStop, codoneStopToStart, 3, 6)"
      ],
      "metadata": {
        "id": "JBpcAEVf8R4k"
      },
      "execution_count": null,
      "outputs": []
    },
    {
      "cell_type": "markdown",
      "source": [
        "Palyginkite kodonu bei dikodonu daznius tarp visu seku (atstumu matrica - kokia formule naudosite/kaip apskaiciuosite - parasykite ataskaitoje)."
      ],
      "metadata": {
        "id": "wHjkPLPDWUS_"
      }
    },
    {
      "cell_type": "code",
      "source": [
        "codonsPhylipMatrix = createPhilypMatrix(genomes, codonFrequenciesArray)\n",
        "dicodonsPhylipMatrix = createPhilypMatrix(genomes, dicodonFrequenciesArray)"
      ],
      "metadata": {
        "id": "TNteluPFDM0j"
      },
      "execution_count": null,
      "outputs": []
    },
    {
      "cell_type": "code",
      "source": [
        "printPhilypMatrix(genomes,codonsPhylipMatrix)\n",
        "printPhilypMatrix(genomes, dicodonsPhylipMatrix)"
      ],
      "metadata": {
        "id": "kB36VJLCxSUz",
        "colab": {
          "base_uri": "https://localhost:8080/"
        },
        "outputId": "eeb4b902-f521-4ce0-a248-fa76bc5d2070"
      },
      "execution_count": null,
      "outputs": [
        {
          "output_type": "stream",
          "name": "stdout",
          "text": [
            "8\n",
            "Lactococcus_phage 0.6076679644588743 0.6211032368046677 0.6438718862608998 0.5558457493238774 0.5750353732366184 0.545042205629218 0 0.5891022153398761\n",
            "KM389305.1 0.4755986897885548 0.4529588456304246 0.4154866040842463 0.42722113733332345 0.4308426939013924 0.43887463704654206 0 0.3481194141674622\n",
            "NC_028697.1 0.5358878004954647 0.4959502920961891 0.47042423492334484 0.5169692544043272 0.5935246650124189 0.5190677135901581 0 0.49194769834373875\n",
            "KC821626.1 0.39621967718562084 0.35472261650855247 0.40919609756341735 0.3004080460204673 0.3373002137132277 0.37951094601938534 0 0.3785081971847041\n",
            "coronavirus 0.4001662095164526 0.402828458462073 0.41189253948665466 0.3679126348787901 0.3977528056270681 0.370139508859677 0 0.39903998911006444\n",
            "adenovirus 0.28767601288865274 0.3084858739013338 0.31093616442155897 0.2966037353429062 0.310818197480009 0.28469625481236693 0 0.2871692708190424\n",
            "U18337.1 0 0 0 0 0 0 0 0\n",
            "herpesvirus 0.3540644172599693 0.3410137126283061 0.37005691867847557 0.3968887119661038 0.4199767945186869 0.3023628752456653 0 0.30670457873190005\n",
            "8\n",
            "Lactococcus_phage 0.08391317011258284 0.17053691751842412 0.08426500884694907 0.3488993683438903 0.23615509896936232 0.26370707256033404 0 0.26763261934022403\n",
            "KM389305.1 0.12558775765504027 0.21398937358130868 0.20943315517825747 0.38032955939275465 0.3168564808689115 0.4973927079446076 0 0.47312035826306703\n",
            "NC_028697.1 0.059548923927436444 0.28637389021256304 0.1115320744913979 0.2823656951124136 0.5696128214249931 0.5321790530763423 0 0.5342967865962674\n",
            "KC821626.1 0.23879615070094382 0.6159754149872465 0.24715310258964218 0.3081088783560512 0.5612961306123813 0.7235272484555799 0 0.6861247415090492\n",
            "coronavirus 0.1881261720006071 0.423741641937142 0.23245386712107602 0.3505413175206146 0.20850691688217565 0.5554297004052752 0 0.4811897644346033\n",
            "adenovirus 0.1386302723535955 0.3024848989605112 0.18676722632517057 0.3319171266461386 0.2809656979353288 0.3109788029946909 0 0.41449353086565743\n",
            "U18337.1 0 0 0 0 0 0 0 0\n",
            "herpesvirus 0.29367155311353216 0.5008637767903181 0.33156072072516257 0.5697151279736479 0.4566390855790247 0.7304911664823016 0 0.41779082131021344\n"
          ]
        }
      ]
    }
  ]
}